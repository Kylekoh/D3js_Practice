{
 "cells": [
  {
   "cell_type": "code",
   "execution_count": 3,
   "metadata": {
    "collapsed": true
   },
   "outputs": [],
   "source": [
    "#! /usr/bin/python3\n",
    "# -*- coding: utf-8 -*-\n",
    "\n",
    "\n",
    "from lxml import html\n",
    "import requests\n",
    "\n",
    "\n",
    "r = requests.get('http://m.wikitree.co.kr/main/news_view.php?id=217101')\n",
    "root = html.document_fromstring(r.text)\n",
    "string = '\\n'.join(root.xpath('//div[@id=\"descs\"]/div//text()'))\n",
    "# string = '\\n'.join(root.xpath('//div[@id=\"descs\"]/div//text()'))\n"
   ]
  },
  {
   "cell_type": "code",
   "execution_count": 7,
   "metadata": {},
   "outputs": [
    {
     "ename": "AttributeError",
     "evalue": "'str' object has no attribute 'decode'",
     "output_type": "error",
     "traceback": [
      "\u001b[0;31m---------------------------------------------------------------------------\u001b[0m",
      "\u001b[0;31mAttributeError\u001b[0m                            Traceback (most recent call last)",
      "\u001b[0;32m<ipython-input-7-9118ddba280a>\u001b[0m in \u001b[0;36m<module>\u001b[0;34m()\u001b[0m\n\u001b[1;32m      1\u001b[0m \u001b[0;32mfor\u001b[0m \u001b[0mi\u001b[0m \u001b[0;32min\u001b[0m \u001b[0mrange\u001b[0m\u001b[0;34m(\u001b[0m\u001b[0;36m1\u001b[0m\u001b[0;34m,\u001b[0m \u001b[0;36m21\u001b[0m\u001b[0;34m)\u001b[0m\u001b[0;34m:\u001b[0m\u001b[0;34m\u001b[0m\u001b[0m\n\u001b[1;32m      2\u001b[0m     \u001b[0mtmp\u001b[0m \u001b[0;34m=\u001b[0m \u001b[0mstr\u001b[0m\u001b[0;34m(\u001b[0m\u001b[0mstring\u001b[0m\u001b[0;34m.\u001b[0m\u001b[0msplit\u001b[0m\u001b[0;34m(\u001b[0m\u001b[0;34m'%s.'\u001b[0m \u001b[0;34m%\u001b[0m \u001b[0mi\u001b[0m\u001b[0;34m,\u001b[0m \u001b[0;36m1\u001b[0m\u001b[0;34m)\u001b[0m\u001b[0;34m)\u001b[0m\u001b[0;34m\u001b[0m\u001b[0m\n\u001b[0;32m----> 3\u001b[0;31m     \u001b[0mprint\u001b[0m \u001b[0;34m(\u001b[0m\u001b[0mtmp\u001b[0m\u001b[0;34m.\u001b[0m\u001b[0mdecode\u001b[0m\u001b[0;34m(\u001b[0m\u001b[0;34m'euc-kr'\u001b[0m\u001b[0;34m)\u001b[0m\u001b[0;34m.\u001b[0m\u001b[0mencode\u001b[0m\u001b[0;34m(\u001b[0m\u001b[0;34m'utf-8'\u001b[0m\u001b[0;34m)\u001b[0m\u001b[0;34m)\u001b[0m\u001b[0;34m\u001b[0m\u001b[0m\n\u001b[0m",
      "\u001b[0;31mAttributeError\u001b[0m: 'str' object has no attribute 'decode'"
     ]
    }
   ],
   "source": [
    "for i in range(1, 21):\n",
    "    tmp = str(string.split('%s.' % i, 1))\n",
    "    print (tmp.decode('euc-kr').encode('utf-8'))\n"
   ]
  },
  {
   "cell_type": "code",
   "execution_count": 134,
   "metadata": {},
   "outputs": [
    {
     "name": "stdout",
     "output_type": "stream",
     "text": [
      "{'name': '가온', 'category': '한식', 'lat': 37.5742692547, 'lon': 126.9854105474}\n"
     ]
    }
   ],
   "source": [
    "# -*- coding: utf-8 -*-\n",
    "\n",
    "import requests\n",
    "import re\n",
    "from bs4 import BeautifulSoup\n",
    "import json\n",
    "import csv\n",
    "import numpy as np\n",
    "from lxml import html\n",
    "import requests\n",
    "import json\n",
    "\n",
    "APIKEY = '**********' # 이 곳에 다음 API 키를 입력 (http://developer.naver.com/wiki/pages/OpenAPI)\n",
    "MAPAPI = 'http://apis.daum.net/local/geo/addr2coord?apikey=%s&q=%s&output=json' # API 결과물을 json파일 형태로 받는다\n",
    "\n",
    "def get_latlon(query):\n",
    "    # query값으로 주소 형태의 데이터가 들어오면 다음 API를 통해서 위도, 경도 값을 반환\n",
    "    resp = requests.get(MAPAPI % (APIKEY, query))\n",
    "    try:\n",
    "        # json형태의 API 결과물중에서 위도, 경도에 해당하는 결과값만을 호출\n",
    "        lat = json.loads(resp.text)['channel']['item'][0]['lat']\n",
    "        lng = json.loads(resp.text)['channel']['item'][0]['lng']\n",
    "        return (lat, lng)\n",
    "    except:\n",
    "        # 위도, 경도 값을 얻을 수 없는 주소값이 존재\n",
    "        # 이러한 경우 값을 0으로 받고 추후 수기로 위도, 경도 값을 추가\n",
    "        return (0, 0)\n",
    "\n",
    "def prep(category, name, address):\n",
    "    # 크롤링한 데이터중 category, name, address > 위도, 경도 값을 반환\n",
    "    name = name\n",
    "    lat, lon = get_latlon(address)\n",
    "\n",
    "    return {\n",
    "        'name': name,\n",
    "        'category': category,\n",
    "        'lat': lat, 'lon': lon,\n",
    "    }\n"
   ]
  },
  {
   "cell_type": "code",
   "execution_count": 135,
   "metadata": {},
   "outputs": [
    {
     "name": "stdout",
     "output_type": "stream",
     "text": [
      "[{'name': '가온', 'category': '한식', 'lat': 37.5226374252, 'lon': 127.0360593358}, {'name': '갈리나 데이지', 'category': '이탈리안', 'lat': 37.5798707677, 'lon': 126.9709547615}, {'name': '개성만두 궁', 'category': '만두', 'lat': 37.5742692547, 'lon': 126.9854105474}, {'name': '고려 삼계탕', 'category': '삼계탕', 'lat': 0, 'lon': 0}, {'name': '고봉 삼계탕', 'category': '삼계탕', 'lat': 37.5647329166, 'lon': 126.9838594761}]\n"
     ]
    }
   ],
   "source": [
    "# 미쉘린 가이드 서울 홈페이지에 올라온 데이터를 크롤링하는 코드\n",
    "# 홈페이지의 데이터의 정보 중 category, name, address 값을 가지고 온다.\n",
    "items = []\n",
    "for num in range(1, 18):\n",
    "    urls = ['https://guide.michelin.co.kr/ko/restaurant/page/{}'.format(num)]\n",
    "    for url in urls:\n",
    "        res = requests.get(url)\n",
    "        content = res.content\n",
    "        soup = BeautifulSoup(content, \"html.parser\")\n",
    "        restaurants = soup.find_all('article', attrs ={'class' :\"restaurant-list-wrap\"})\n",
    "        for restaurant in restaurants:\n",
    "            category = restaurant.find('span', attrs={'class':\"restaurant-list-category\"}).get_text()\n",
    "            name = restaurant.find(attrs={'class':\"restaurant-list-title\"}).get_text()\n",
    "            address = restaurant.find('p', attrs={'class':\"ellipsis\"}).get_text().strip()\n",
    "            items.append([category, name, address])\n",
    "\n",
    "# 크롤링한 결과를 CSV파일로 저장하기 위한 형태로 정의\n",
    "data = [prep(i[0],i[1],i[2]) for i in items[:]]\n",
    "\n",
    "# 식당 이름, 위도, 경도 값을 CSV파일 형태로 저장\n",
    "with open('places.csv', 'w') as f:\n",
    "    f.write('name,lat,lon\\n')\n",
    "    for d in data:\n",
    "        f.write('%(name)s,%(lat)s,%(lon)s\\n' % d)"
   ]
  },
  {
   "cell_type": "code",
   "execution_count": null,
   "metadata": {
    "collapsed": true
   },
   "outputs": [],
   "source": []
  }
 ],
 "metadata": {
  "kernelspec": {
   "display_name": "Python 3",
   "language": "python",
   "name": "python3"
  },
  "language_info": {
   "codemirror_mode": {
    "name": "ipython",
    "version": 3
   },
   "file_extension": ".py",
   "mimetype": "text/x-python",
   "name": "python",
   "nbconvert_exporter": "python",
   "pygments_lexer": "ipython3",
   "version": "3.6.1"
  }
 },
 "nbformat": 4,
 "nbformat_minor": 2
}
